{
 "cells": [
  {
   "cell_type": "code",
   "execution_count": 22,
   "id": "c9b9747d-00c9-4c8d-a90e-d09a2e9dac9d",
   "metadata": {},
   "outputs": [],
   "source": [
    "import pandas as pd\n",
    "import re"
   ]
  },
  {
   "cell_type": "code",
   "execution_count": 6,
   "id": "84303b40-536b-441b-8ae5-eadf0e9a9088",
   "metadata": {},
   "outputs": [],
   "source": [
    "file_path = \"C:/Users/Sumeet/Downloads/Data Engineering/Data Engineering/data - sample.xlsx\"  \n",
    "excel_data = pd.ExcelFile('C:/Users/Sumeet/Downloads/Data Engineering/Data Engineering/data - sample.xlsx')"
   ]
  },
  {
   "cell_type": "code",
   "execution_count": 8,
   "id": "03359f2a-7067-49e1-8d1a-77683cfe8008",
   "metadata": {},
   "outputs": [],
   "source": [
    "attendance_df = excel_data.parse('Attendance_data')\n",
    "student_df = excel_data.parse('Student_data')"
   ]
  },
  {
   "cell_type": "code",
   "execution_count": 10,
   "id": "f7714060-5e6c-416e-b17f-d79936c7a867",
   "metadata": {},
   "outputs": [],
   "source": [
    "attendance_df['attendance_date'] = pd.to_datetime(attendance_df['attendance_date'])\n",
    "attendance_df = attendance_df.sort_values(by=['student_id', 'attendance_date'])"
   ]
  },
  {
   "cell_type": "code",
   "execution_count": 12,
   "id": "f8ca4324-ba6a-4cc6-8103-8c46aa948a92",
   "metadata": {},
   "outputs": [],
   "source": [
    "def find_absent_streaks(df, streak_length=3):\n",
    "    results = []\n",
    "    for student_id, group in df.groupby('student_id'):\n",
    "        group = group.reset_index(drop=True)\n",
    "        count = 0\n",
    "        start_date = None\n",
    "        for i, row in group.iterrows():\n",
    "            if row['status'] == 'Absent':\n",
    "                count += 1\n",
    "                if count == 1:\n",
    "                    start_date = row['attendance_date']\n",
    "                if count > streak_length:\n",
    "                    end_date = row['attendance_date']\n",
    "            else:\n",
    "                if count > streak_length:\n",
    "                    results.append((student_id, start_date, group.loc[i-1, 'attendance_date'], count))\n",
    "                count = 0\n",
    "        if count > streak_length:\n",
    "            results.append((student_id, start_date, group.iloc[-1]['attendance_date'], count))\n",
    "    return results"
   ]
  },
  {
   "cell_type": "code",
   "execution_count": 14,
   "id": "1107ae19-a9aa-40d3-9ee2-6c11c8337d10",
   "metadata": {},
   "outputs": [
    {
     "data": {
      "text/html": [
       "<div>\n",
       "<style scoped>\n",
       "    .dataframe tbody tr th:only-of-type {\n",
       "        vertical-align: middle;\n",
       "    }\n",
       "\n",
       "    .dataframe tbody tr th {\n",
       "        vertical-align: top;\n",
       "    }\n",
       "\n",
       "    .dataframe thead th {\n",
       "        text-align: right;\n",
       "    }\n",
       "</style>\n",
       "<table border=\"1\" class=\"dataframe\">\n",
       "  <thead>\n",
       "    <tr style=\"text-align: right;\">\n",
       "      <th></th>\n",
       "      <th>student_id</th>\n",
       "      <th>absence_start_date</th>\n",
       "      <th>absence_end_date</th>\n",
       "      <th>total_absent_days</th>\n",
       "    </tr>\n",
       "  </thead>\n",
       "  <tbody>\n",
       "    <tr>\n",
       "      <th>0</th>\n",
       "      <td>107</td>\n",
       "      <td>2024-03-22</td>\n",
       "      <td>2024-03-25</td>\n",
       "      <td>4</td>\n",
       "    </tr>\n",
       "    <tr>\n",
       "      <th>1</th>\n",
       "      <td>108</td>\n",
       "      <td>2024-03-21</td>\n",
       "      <td>2024-11-05</td>\n",
       "      <td>5</td>\n",
       "    </tr>\n",
       "  </tbody>\n",
       "</table>\n",
       "</div>"
      ],
      "text/plain": [
       "   student_id absence_start_date absence_end_date  total_absent_days\n",
       "0         107         2024-03-22       2024-03-25                  4\n",
       "1         108         2024-03-21       2024-11-05                  5"
      ]
     },
     "execution_count": 14,
     "metadata": {},
     "output_type": "execute_result"
    }
   ],
   "source": [
    "streaks = find_absent_streaks(attendance_df)\n",
    "result_df = pd.DataFrame(streaks, columns=['student_id', 'absence_start_date', 'absence_end_date', 'total_absent_days'])\n",
    "result_df"
   ]
  },
  {
   "cell_type": "code",
   "execution_count": 26,
   "id": "e7175b29-75b0-4b6c-83c1-aa4456866020",
   "metadata": {},
   "outputs": [
    {
     "name": "stdout",
     "output_type": "stream",
     "text": [
      "   student_id absence_start_date absence_end_date  total_absent_days  \\\n",
      "0         101         02-03-2024       05-03-2024                  4   \n",
      "1         102         02-03-2024       05-03-2024                  4   \n",
      "2         103         02-03-2024       05-03-2024                  4   \n",
      "3         104         02-03-2024       05-03-2024                  4   \n",
      "4         105         02-03-2024       05-03-2024                  4   \n",
      "\n",
      "                      email                                                msg  \n",
      "0  alice_parent@example.com  Dear Parent, your child Alice Johnson was abse...  \n",
      "1    bob_parent@example.com  Dear Parent, your child Bob Smith was absent f...  \n",
      "2                      None                                               None  \n",
      "3                      None                                               None  \n",
      "4     eva_white@example.com  Dear Parent, your child Eva White was absent f...  \n"
     ]
    }
   ],
   "source": [
    "import pandas as pd\n",
    "import re\n",
    "\n",
    "students = pd.DataFrame({\n",
    "    'student_id': [101, 102, 103, 104, 105],\n",
    "    'student_name': ['Alice Johnson', 'Bob Smith', 'Charlie Brown', 'David Lee', 'Eva White'],\n",
    "    'parent_email': [\n",
    "        'alice_parent@example.com',\n",
    "        'bob_parent@example.com',\n",
    "        'invalid_email.com',\n",
    "        'invalid_email.com',\n",
    "        'eva_white@example.com'\n",
    "    ]\n",
    "})\n",
    "\n",
    "attendance = pd.DataFrame({\n",
    "    'student_id': [101]*6 + [102]*6 + [103]*6 + [104]*6 + [105]*6,\n",
    "    'date': pd.date_range(start='2024-03-01', periods=6).tolist() * 5,\n",
    "    'status': ['Present', 'Absent', 'Absent', 'Absent', 'Absent', 'Present'] * 5\n",
    "})\n",
    "\n",
    "attendance['date'] = pd.to_datetime(attendance['date'])\n",
    "attendance = attendance.sort_values(by=['student_id', 'date'])\n",
    "\n",
    "def find_absent_streaks(data, limit=3):\n",
    "    records = []\n",
    "    for sid, group in data.groupby('student_id'):\n",
    "        group = group.reset_index(drop=True)\n",
    "        streak = 0\n",
    "        start = None\n",
    "        for i, row in group.iterrows():\n",
    "            if row['status'] == 'Absent':\n",
    "                streak += 1\n",
    "                if streak == 1:\n",
    "                    start = row['date']\n",
    "            else:\n",
    "                if streak > limit:\n",
    "                    end = group.loc[i - 1, 'date']\n",
    "                    records.append((sid, start, end, streak))\n",
    "                streak = 0\n",
    "        if streak > limit:\n",
    "            end = group.iloc[-1]['date']\n",
    "            records.append((sid, start, end, streak))\n",
    "    return records\n",
    "\n",
    "absent_info = find_absent_streaks(attendance)\n",
    "absent_df = pd.DataFrame(absent_info, columns=[\n",
    "    'student_id', 'absence_start_date', 'absence_end_date', 'total_absent_days'\n",
    "])\n",
    "\n",
    "data = pd.merge(absent_df, students, on='student_id')\n",
    "\n",
    "def is_valid(email):\n",
    "    return re.match(r'^[a-zA-Z_][a-zA-Z0-9_]*@[a-zA-Z]+\\.(com)$', email) is not None\n",
    "\n",
    "data['email'] = data['parent_email'].apply(lambda x: x if is_valid(x) else None)\n",
    "\n",
    "def generate_msg(row):\n",
    "    if row['email']:\n",
    "        start_date = row['absence_start_date'].strftime('%d-%m-%Y')\n",
    "        end_date = row['absence_end_date'].strftime('%d-%m-%Y')\n",
    "        return f\"Dear Parent, your child {row['student_name']} was absent from {start_date} to {end_date} for {row['total_absent_days']} days. Please ensure their attendance improves.\"\n",
    "    return None\n",
    "\n",
    "data['msg'] = data.apply(generate_msg, axis=1)\n",
    "\n",
    "data['absence_start_date'] = data['absence_start_date'].dt.strftime('%d-%m-%Y')\n",
    "data['absence_end_date'] = data['absence_end_date'].dt.strftime('%d-%m-%Y')\n",
    "\n",
    "final = data[['student_id', 'absence_start_date', 'absence_end_date', 'total_absent_days', 'email', 'msg']]\n",
    "print(final)"
   ]
  },
  {
   "cell_type": "code",
   "execution_count": null,
   "id": "e0bdc0fd-5098-407d-a8cb-94685724a553",
   "metadata": {},
   "outputs": [],
   "source": []
  }
 ],
 "metadata": {
  "kernelspec": {
   "display_name": "Python 3 (ipykernel)",
   "language": "python",
   "name": "python3"
  },
  "language_info": {
   "codemirror_mode": {
    "name": "ipython",
    "version": 3
   },
   "file_extension": ".py",
   "mimetype": "text/x-python",
   "name": "python",
   "nbconvert_exporter": "python",
   "pygments_lexer": "ipython3",
   "version": "3.12.4"
  }
 },
 "nbformat": 4,
 "nbformat_minor": 5
}
